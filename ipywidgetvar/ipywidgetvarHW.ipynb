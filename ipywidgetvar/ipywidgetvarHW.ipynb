{
 "cells": [
  {
   "cell_type": "markdown",
   "id": "2ffd1ff1",
   "metadata": {},
   "source": [
    "# ipywidgetvar \"Hello World\""
   ]
  },
  {
   "cell_type": "code",
   "execution_count": 1,
   "id": "e834813d-48a5-4061-87c2-3431772e93ad",
   "metadata": {},
   "outputs": [],
   "source": [
    "from ipywidgetvar import IpywidgetVar\n",
    "import json"
   ]
  },
  {
   "cell_type": "code",
   "execution_count": 2,
   "id": "023f6bb1-ef9b-40e2-80b4-3e7503238595",
   "metadata": {},
   "outputs": [],
   "source": [
    "myvar = IpywidgetVar()"
   ]
  },
  {
   "cell_type": "code",
   "execution_count": 3,
   "id": "a748a648-a7cf-401f-b8db-bc996d95409c",
   "metadata": {},
   "outputs": [
    {
     "data": {
      "application/vnd.jupyter.widget-view+json": {
       "model_id": "cb368472a9404b55996e585a29dcbbbc",
       "version_major": 2,
       "version_minor": 0
      },
      "text/plain": [
       "IpywidgetVar()"
      ]
     },
     "metadata": {},
     "output_type": "display_data"
    }
   ],
   "source": [
    "myvar"
   ]
  },
  {
   "cell_type": "code",
   "execution_count": 4,
   "id": "0d01a997-2db0-43bc-9744-f9c016535aa1",
   "metadata": {},
   "outputs": [],
   "source": [
    "myvar.value = \"No! I want that to change!!!!\""
   ]
  },
  {
   "cell_type": "code",
   "execution_count": 5,
   "id": "f48ea0e5-62b5-466d-a0fb-d36e3eeb6c2d",
   "metadata": {},
   "outputs": [],
   "source": [
    "def myvar_obs(change):\n",
    "    print(change)\n",
    "myvar.observe(myvar_obs, names='value')"
   ]
  },
  {
   "cell_type": "code",
   "execution_count": 6,
   "id": "ffd9a56f-6120-4525-b088-ad3e60b11b05",
   "metadata": {},
   "outputs": [
    {
     "data": {
      "application/javascript": "console.log(document.querySelector(\"#id1\"))\n",
      "text/plain": [
       "<IPython.core.display.Javascript object>"
      ]
     },
     "metadata": {},
     "output_type": "display_data"
    }
   ],
   "source": [
    "%%javascript\n",
    "console.log(document.querySelector(\"#id1\"))"
   ]
  },
  {
   "cell_type": "code",
   "execution_count": 7,
   "id": "2c14a0d6-5b45-4887-84f7-93d25ad4f959",
   "metadata": {},
   "outputs": [],
   "source": [
    "myvar.id=\"myvar\""
   ]
  },
  {
   "cell_type": "code",
   "execution_count": 8,
   "id": "5d58a5fc-37e7-470b-be51-7b73538db104",
   "metadata": {},
   "outputs": [
    {
     "data": {
      "text/plain": [
       "'topythonvalue'"
      ]
     },
     "execution_count": 8,
     "metadata": {},
     "output_type": "execute_result"
    }
   ],
   "source": [
    "myvar.topython"
   ]
  },
  {
   "cell_type": "code",
   "execution_count": 9,
   "id": "6adbed0e-3fec-4d05-a2bf-08d43c819b35",
   "metadata": {},
   "outputs": [],
   "source": [
    "myvar.observe(myvar_obs, names='topython')"
   ]
  },
  {
   "cell_type": "code",
   "execution_count": 10,
   "id": "15f1afec-00dd-496d-973b-405f533a2acb",
   "metadata": {},
   "outputs": [
    {
     "data": {
      "application/javascript": "var elt = document.querySelector(\"#myvar\");\nelt.tojs_callback(function(v){console.log(v);})\n",
      "text/plain": [
       "<IPython.core.display.Javascript object>"
      ]
     },
     "metadata": {},
     "output_type": "display_data"
    }
   ],
   "source": [
    "%%javascript\n",
    "var elt = document.querySelector(\"#myvar\");\n",
    "elt.tojs_callback(function(v){console.log(v);})"
   ]
  },
  {
   "cell_type": "code",
   "execution_count": 17,
   "id": "f17e636d-b616-429f-9c1e-1e38235859e6",
   "metadata": {},
   "outputs": [],
   "source": [
    "myvar.tojs=json.dumps({\"r\":\"Dev terminé. Peut-être!\"})"
   ]
  },
  {
   "cell_type": "code",
   "execution_count": 12,
   "id": "d5c88d82-db97-45b6-bc18-c255be8ca59d",
   "metadata": {},
   "outputs": [
    {
     "data": {
      "text/plain": [
       "'{\"r\": \"Dev termin\\\\u00e9.\"}'"
      ]
     },
     "execution_count": 12,
     "metadata": {},
     "output_type": "execute_result"
    }
   ],
   "source": [
    "myvar.tojs"
   ]
  },
  {
   "cell_type": "code",
   "execution_count": 13,
   "id": "a2189aa7-20ea-4091-b852-975bf7627dca",
   "metadata": {},
   "outputs": [
    {
     "name": "stdout",
     "output_type": "stream",
     "text": [
      "{'name': 'value', 'old': 'No! I want that to change!!!!', 'new': 'Please!', 'owner': IpywidgetVar(id='myvar', tojs='{\"r\": \"Dev termin\\\\u00e9.\"}', value='Please!'), 'type': 'change'}\n"
     ]
    }
   ],
   "source": [
    "myvar.value = \"Please!\""
   ]
  },
  {
   "cell_type": "code",
   "execution_count": 16,
   "id": "0360b3bd-cb11-4b23-9e15-f067fdb354c2",
   "metadata": {},
   "outputs": [
    {
     "data": {
      "application/javascript": "var x = document.createElement(\"INPUT\");\nx.setAttribute(\"type\", \"time\");\nelement.appendChild(x);\nx.addEventListener(\"change\", function(){\n    var elt = document.querySelector(\"#myvar\");\n    elt.IpywidgetVarTopython(this.value)\n});\n",
      "text/plain": [
       "<IPython.core.display.Javascript object>"
      ]
     },
     "metadata": {},
     "output_type": "display_data"
    }
   ],
   "source": [
    "%%javascript\n",
    "var x = document.createElement(\"INPUT\");\n",
    "x.setAttribute(\"type\", \"time\");\n",
    "element.appendChild(x);\n",
    "x.addEventListener(\"change\", function(){\n",
    "    var elt = document.querySelector(\"#myvar\");\n",
    "    elt.IpywidgetVarTopython(this.value)\n",
    "});"
   ]
  },
  {
   "cell_type": "code",
   "execution_count": null,
   "id": "cc446052-dd1a-4e1a-9a78-bfe8f8e3da61",
   "metadata": {},
   "outputs": [],
   "source": []
  }
 ],
 "metadata": {
  "kernelspec": {
   "display_name": "Python 3.10.4 ('venv': venv)",
   "language": "python",
   "name": "python3"
  },
  "language_info": {
   "codemirror_mode": {
    "name": "ipython",
    "version": 3
   },
   "file_extension": ".py",
   "mimetype": "text/x-python",
   "name": "python",
   "nbconvert_exporter": "python",
   "pygments_lexer": "ipython3",
   "version": "3.10.4"
  },
  "vscode": {
   "interpreter": {
    "hash": "f7e4f1ec7c10a9e27ee965769e3325a8a051c68dbd2a9b5e3c46c3d2e8f939ba"
   }
  }
 },
 "nbformat": 4,
 "nbformat_minor": 5
}
